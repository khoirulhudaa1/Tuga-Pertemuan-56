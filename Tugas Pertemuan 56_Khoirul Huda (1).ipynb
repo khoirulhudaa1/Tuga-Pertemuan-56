{
 "cells": [
  {
   "cell_type": "markdown",
   "id": "6b87bb6b-4848-41e6-ba1a-2a1bfa5fd9b1",
   "metadata": {},
   "source": [
    "# Tugas Pertemuan 56\n",
    "| Label       | Informasi                        |\n",
    "|-------------|----------------------------------|\n",
    "| Nama        | Khoirul Huda                     |\n",
    "| NIM         | 22.230.0118                      |\n",
    "| Universitas | Institut Widya Pratama           |\n",
    "| Kelas       | Bravo (Malam)                    |"
   ]
  },
  {
   "cell_type": "code",
   "execution_count": 2,
   "id": "241f0b91-3ae2-471c-85d4-78177a3eebd8",
   "metadata": {},
   "outputs": [
    {
     "name": "stdout",
     "output_type": "stream",
     "text": [
      "Collecting pymongo\n",
      "  Downloading pymongo-4.10.1-cp312-cp312-win_amd64.whl.metadata (22 kB)\n",
      "Collecting dnspython<3.0.0,>=1.16.0 (from pymongo)\n",
      "  Downloading dnspython-2.7.0-py3-none-any.whl.metadata (5.8 kB)\n",
      "Downloading pymongo-4.10.1-cp312-cp312-win_amd64.whl (926 kB)\n",
      "   ---------------------------------------- 0.0/926.7 kB ? eta -:--:--\n",
      "   ---------------------------------------- 0.0/926.7 kB ? eta -:--:--\n",
      "   ----------- ---------------------------- 262.1/926.7 kB ? eta -:--:--\n",
      "   --------------------- ---------------- 524.3/926.7 kB 932.9 kB/s eta 0:00:01\n",
      "   --------------------- ---------------- 524.3/926.7 kB 932.9 kB/s eta 0:00:01\n",
      "   -------------------------------------- 926.7/926.7 kB 886.1 kB/s eta 0:00:00\n",
      "Downloading dnspython-2.7.0-py3-none-any.whl (313 kB)\n",
      "Installing collected packages: dnspython, pymongo\n",
      "Successfully installed dnspython-2.7.0 pymongo-4.10.1\n",
      "Note: you may need to restart the kernel to use updated packages.\n"
     ]
    }
   ],
   "source": [
    "pip install pymongo"
   ]
  },
  {
   "cell_type": "code",
   "execution_count": 8,
   "id": "34611ae3-4555-45ce-ae99-4b169fd3b309",
   "metadata": {},
   "outputs": [
    {
     "name": "stdout",
     "output_type": "stream",
     "text": [
      "{'_id': ObjectId('674478b0fd32971eb9331109')}\n",
      "{'_id': {'customer_id': 'C001', 'name': 'Alice', 'age': 30, 'occupation': 'Engineer', 'income': 1500000, 'purchased_products': ['P001', 'P002']}}\n",
      "{'_id': {'customer_id': 'C002', 'name': 'Jono', 'age': 35, 'occupation': 'Surveyor', 'income': 12500000, 'purchased_products': ['P003', 'P004']}}\n"
     ]
    }
   ],
   "source": [
    "# LIHAT DATA\n",
    "from pymongo import MongoClient\n",
    "# Koneksi ke MongoDB\n",
    "client = MongoClient(\"mongodb://localhost:27017/\")  # Pastikan MongoDB berjalan secara lokal di port 27017\n",
    "# Pilih database\n",
    "db = client[\"DatabaseMSIB\"]  # Ganti dengan nama database Anda\n",
    "# Pilih collection\n",
    "collection = db[\"PesertaMSIB\"]  # Ganti dengan nama koleksi yang ingin dibuka\n",
    "# Menampilkan isi collection\n",
    "documents = collection.find()  # Mengambil semua dokumen dari koleksi\n",
    "# Menampilkan isi dokumen\n",
    "for doc in documents:\n",
    "    print(doc)\n",
    "# Menutup koneksi\n",
    "client.close()"
   ]
  },
  {
   "cell_type": "code",
   "execution_count": 14,
   "id": "09c65425-9da6-41fa-b8e5-328d46c135fa",
   "metadata": {},
   "outputs": [
    {
     "name": "stdout",
     "output_type": "stream",
     "text": [
      "Data berhasil ditambahkan dengan ID: 6744873ded159332282ca47b\n"
     ]
    }
   ],
   "source": [
    "from pymongo import MongoClient\n",
    "\n",
    "# Koneksi ke MongoDB\n",
    "client = MongoClient(\"mongodb://localhost:27017/\")  # Pastikan MongoDB berjalan secara lokal di port 27017\n",
    "\n",
    "# Pilih database\n",
    "db = client[\"DatabaseMSIB\"]  # Ganti dengan nama database Anda\n",
    "\n",
    "# Pilih collection\n",
    "collection = db[\"PesertaMSIB\"]  # Ganti dengan nama koleksi yang ingin dibuka\n",
    "\n",
    "# Data yang ingin ditambahkan\n",
    "data_baru = {\n",
    "    \"nama\": \"Sasongko\",\n",
    "    \"umur\": 45,\n",
    "    \"pekerjaan\": \"Karyawan Swasta\",\n",
    "    \"alamat\": {\n",
    "        \"jalan\": \"Jalan Pelan Pelan\",\n",
    "        \"kota\": \"Jakarta\",\n",
    "        \"kode_post\": \"12345\",\n",
    "        \"telp\": \"08190293432\"\n",
    "    }\n",
    "}\n",
    "\n",
    "# Menambahkan data ke collection\n",
    "insert_result = collection.insert_one(data_baru)\n",
    "\n",
    "# Menampilkan id dokumen yang baru ditambahkan\n",
    "print(f\"Data berhasil ditambahkan dengan ID: {insert_result.inserted_id}\")\n",
    "\n",
    "# Menutup koneksi\n",
    "client.close()"
   ]
  },
  {
   "cell_type": "code",
   "execution_count": 18,
   "id": "f919d497-e27f-4665-8030-a14506455e2b",
   "metadata": {},
   "outputs": [
    {
     "name": "stdout",
     "output_type": "stream",
     "text": [
      "1 dokumen berhasil diupdate.\n"
     ]
    }
   ],
   "source": [
    "#UPDATE DATA\n",
    "from pymongo import MongoClient\n",
    "\n",
    "# Koneksi ke MongoDB\n",
    "client = MongoClient(\"mongodb://localhost:27017/\")  # Ubah sesuai dengan host MongoDB Anda\n",
    "\n",
    "# Pilih database\n",
    "db = client[\"DatabaseMSIB\"]  # Ganti dengan nama database Anda\n",
    "\n",
    "# Pilih collection\n",
    "collection = db[\"PesertaMSIB\"]  # Ganti dengan nama koleksi Anda\n",
    "\n",
    "# Kriteria data yang ingin diedit (misalnya berdasarkan nama)\n",
    "kriteria = {\"nama\": \"Sasongko\"}\n",
    "\n",
    "# Data baru yang ingin diupdate\n",
    "data_baru = {\n",
    "    \"$set\": {\n",
    "        \"umur\": 35,  # Mengubah umur\n",
    "        \"alamat.kota\": \"Bandung\",  # Mengubah kota di dalam field alamat\n",
    "        \"pekerjaan\": \"Manajer IT\"  # Mengubah pekerjaan\n",
    "    }\n",
    "}\n",
    "\n",
    "# Melakukan update data\n",
    "update_result = collection.update_one(kriteria, data_baru)\n",
    "\n",
    "# Menampilkan hasil\n",
    "if update_result.matched_count > 0:\n",
    "    print(f\"{update_result.modified_count} dokumen berhasil diupdate.\")\n",
    "else:\n",
    "    print(\"Tidak ada data yang cocok untuk diupdate.\")\n",
    "\n",
    "# Menutup koneksi\n",
    "client.close()"
   ]
  },
  {
   "cell_type": "code",
   "execution_count": 20,
   "id": "050f1c36-36bc-459a-9461-da52224ece94",
   "metadata": {},
   "outputs": [
    {
     "name": "stdout",
     "output_type": "stream",
     "text": [
      "Doumen berhasil dihapus.\n"
     ]
    }
   ],
   "source": [
    "#UPDATE DATA\n",
    "from pymongo import MongoClient\n",
    "# Koneksi ke MongoDB\n",
    "client = MongoClient(\"mongodb://localhost:27017/\") # Ubah sesuai dengan host MongoDB Anda\n",
    "# Pilih database\n",
    "db = client[\"DatabaseMSIB\"] # Ganti dengan nama database Anda\n",
    "# Pilih collection\n",
    "collection = db[\"PesertaMSIB\"] # Ganti dengan nama koleksi Anda\n",
    "# Kriteria data yang ingin diedit (misalnya berdasarkan nama)\n",
    "kriteria = {\"nama\": \"Sasongko\"}\n",
    "# Menghapus satu data sesuai dengan kriteria\n",
    "delete_reslut = collection.delete_one(kriteria)\n",
    "# Menampilkan hasil\n",
    "if update_result.matched_count > 0:\n",
    "    print(\"Doumen berhasil dihapus.\")\n",
    "else:\n",
    "    print(\"Tidak ada data yang cocok untuk dihapus.\")\n",
    "# Menutup koneksi\n",
    "client.close()"
   ]
  },
  {
   "cell_type": "code",
   "execution_count": null,
   "id": "28f305bb-a212-48d7-9901-ed957768c04d",
   "metadata": {},
   "outputs": [],
   "source": []
  }
 ],
 "metadata": {
  "kernelspec": {
   "display_name": "Python 3 (ipykernel)",
   "language": "python",
   "name": "python3"
  },
  "language_info": {
   "codemirror_mode": {
    "name": "ipython",
    "version": 3
   },
   "file_extension": ".py",
   "mimetype": "text/x-python",
   "name": "python",
   "nbconvert_exporter": "python",
   "pygments_lexer": "ipython3",
   "version": "3.12.7"
  }
 },
 "nbformat": 4,
 "nbformat_minor": 5
}
